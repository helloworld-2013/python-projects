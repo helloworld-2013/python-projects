{
 "cells": [
  {
   "cell_type": "code",
   "execution_count": 1,
   "metadata": {
    "collapsed": false
   },
   "outputs": [
    {
     "name": "stdout",
     "output_type": "stream",
     "text": [
      "[2, 3, 5, 7, 11, 13, 17, 19, 23, 29, 31, 37, 41, 43, 47]\n"
     ]
    }
   ],
   "source": [
    "class PrimeGenerator:\n",
    "    def generate(self,max):\n",
    "        primes = range(2,max)\n",
    "        for i in range(2,max):\n",
    "            primes = list(filter(lambda x: x == i or x % i,primes))\n",
    "        return primes\n",
    "    \n",
    "prime_generator = PrimeGenerator()\n",
    "print(prime_generator.generate(50))"
   ]
  },
  {
   "cell_type": "code",
   "execution_count": 2,
   "metadata": {
    "collapsed": false
   },
   "outputs": [
    {
     "name": "stdout",
     "output_type": "stream",
     "text": [
      "before: hello, world!\n",
      "after: <i><b>hello, world!</b></i>\n"
     ]
    }
   ],
   "source": [
    "\"\"\"\n",
    "Reference: https://en.wikipedia.org/wiki/Decorator_pattern\n",
    "\"\"\"\n",
    "\n",
    "class TextTag(object):\n",
    "    \"\"\"Represents a base text tag\"\"\"\n",
    "    def __init__(self, text):\n",
    "        self._text = text\n",
    "\n",
    "    def render(self):\n",
    "        return self._text\n",
    "\n",
    "\n",
    "class BoldWrapper(object):\n",
    "    \"\"\"Wraps a tag in <b>\"\"\"\n",
    "    def __init__(self, wrapped):\n",
    "        self._wrapped = wrapped\n",
    "\n",
    "    def render(self):\n",
    "        return \"<b>{}</b>\".format(self._wrapped.render())\n",
    "\n",
    "\n",
    "class ItalicWrapper(object):\n",
    "    \"\"\"Wraps a tag in <i>\"\"\"\n",
    "    def __init__(self, wrapped):\n",
    "        self._wrapped = wrapped\n",
    "\n",
    "    def render(self):\n",
    "        return \"<i>{}</i>\".format(self._wrapped.render())\n",
    "    \n",
    "simple_hello = TextTag(\"hello, world!\")\n",
    "special_hello = ItalicWrapper(BoldWrapper(simple_hello))\n",
    "print(\"before:\", simple_hello.render())\n",
    "print(\"after:\", special_hello.render())"
   ]
  },
  {
   "cell_type": "code",
   "execution_count": 3,
   "metadata": {
    "collapsed": false
   },
   "outputs": [
    {
     "name": "stdout",
     "output_type": "stream",
     "text": [
      "1 1 1\n",
      "1 2 1\n",
      "3 2 3\n"
     ]
    }
   ],
   "source": [
    "class Parent(object):\n",
    "    x = 1\n",
    "\n",
    "class Child1(Parent):\n",
    "    pass\n",
    "\n",
    "class Child2(Parent):\n",
    "    pass\n",
    "\n",
    "print(Parent.x, Child1.x, Child2.x)\n",
    "Child1.x = 2 # from here on , no more related to Parent.x\n",
    "print(Parent.x, Child1.x, Child2.x)\n",
    "Parent.x = 3 # only Parent.x and Child2.x affected\n",
    "print(Parent.x, Child1.x, Child2.x)"
   ]
  }
 ],
 "metadata": {
  "anaconda-cloud": {},
  "kernelspec": {
   "display_name": "Python 3",
   "language": "python",
   "name": "python3"
  },
  "language_info": {
   "codemirror_mode": {
    "name": "ipython",
    "version": 3
   },
   "file_extension": ".py",
   "mimetype": "text/x-python",
   "name": "python",
   "nbconvert_exporter": "python",
   "pygments_lexer": "ipython3",
   "version": "3.5.2"
  }
 },
 "nbformat": 4,
 "nbformat_minor": 1
}
