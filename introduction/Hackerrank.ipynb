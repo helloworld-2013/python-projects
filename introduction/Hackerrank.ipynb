{
 "cells": [
  {
   "cell_type": "code",
   "execution_count": 1,
   "metadata": {},
   "outputs": [
    {
     "name": "stdout",
     "output_type": "stream",
     "text": [
      "[2, 3, 5, 7, 11, 13, 17, 19, 23, 29, 31, 37, 41, 43, 47]\n"
     ]
    }
   ],
   "source": [
    "class PrimeGenerator:\n",
    "    def generate(self,max):\n",
    "        primes = range(2,max)\n",
    "        for i in range(2,max):\n",
    "            primes = list(filter(lambda x: x == i or x % i,primes))\n",
    "        return primes\n",
    "    \n",
    "prime_generator = PrimeGenerator()\n",
    "print(prime_generator.generate(50))"
   ]
  },
  {
   "cell_type": "code",
   "execution_count": 2,
   "metadata": {},
   "outputs": [
    {
     "name": "stdout",
     "output_type": "stream",
     "text": [
      "before: hello, world!\n",
      "after: <i><b>hello, world!</b></i>\n"
     ]
    }
   ],
   "source": [
    "\"\"\"\n",
    "Reference: https://en.wikipedia.org/wiki/Decorator_pattern\n",
    "\"\"\"\n",
    "\n",
    "class TextTag(object):\n",
    "    \"\"\"Represents a base text tag\"\"\"\n",
    "    def __init__(self, text):\n",
    "        self._text = text\n",
    "\n",
    "    def render(self):\n",
    "        return self._text\n",
    "\n",
    "\n",
    "class BoldWrapper(object):\n",
    "    \"\"\"Wraps a tag in <b>\"\"\"\n",
    "    def __init__(self, wrapped):\n",
    "        self._wrapped = wrapped\n",
    "\n",
    "    def render(self):\n",
    "        return \"<b>{}</b>\".format(self._wrapped.render())\n",
    "\n",
    "\n",
    "class ItalicWrapper(object):\n",
    "    \"\"\"Wraps a tag in <i>\"\"\"\n",
    "    def __init__(self, wrapped):\n",
    "        self._wrapped = wrapped\n",
    "\n",
    "    def render(self):\n",
    "        return \"<i>{}</i>\".format(self._wrapped.render())\n",
    "    \n",
    "simple_hello = TextTag(\"hello, world!\")\n",
    "special_hello = ItalicWrapper(BoldWrapper(simple_hello))\n",
    "print(\"before:\", simple_hello.render())\n",
    "print(\"after:\", special_hello.render())"
   ]
  },
  {
   "cell_type": "code",
   "execution_count": 3,
   "metadata": {},
   "outputs": [
    {
     "name": "stdout",
     "output_type": "stream",
     "text": [
      "1 1 1\n",
      "1 2 1\n",
      "3 2 3\n"
     ]
    }
   ],
   "source": [
    "class Parent(object):\n",
    "    x = 1\n",
    "\n",
    "class Child1(Parent):\n",
    "    pass\n",
    "\n",
    "class Child2(Parent):\n",
    "    pass\n",
    "\n",
    "print(Parent.x, Child1.x, Child2.x)\n",
    "Child1.x = 2 # from here on , no more related to Parent.x\n",
    "print(Parent.x, Child1.x, Child2.x)\n",
    "Parent.x = 3 # only Parent.x and Child2.x affected\n",
    "print(Parent.x, Child1.x, Child2.x)"
   ]
  },
  {
   "cell_type": "code",
   "execution_count": 1,
   "metadata": {},
   "outputs": [
    {
     "name": "stdout",
     "output_type": "stream",
     "text": [
      "2 is a prime number\n",
      "3 is a prime number\n",
      "4 equals 2 * 2\n",
      "5 is a prime number\n",
      "6 equals 2 * 3\n",
      "7 is a prime number\n",
      "8 equals 2 * 4\n",
      "9 equals 3 * 3\n",
      "10 equals 2 * 5\n",
      "11 is a prime number\n",
      "12 equals 2 * 6\n",
      "13 is a prime number\n",
      "14 equals 2 * 7\n",
      "15 equals 3 * 5\n",
      "16 equals 2 * 8\n",
      "17 is a prime number\n",
      "18 equals 2 * 9\n",
      "19 is a prime number\n",
      "20 equals 2 * 10\n",
      "21 equals 3 * 7\n",
      "22 equals 2 * 11\n",
      "23 is a prime number\n",
      "24 equals 2 * 12\n",
      "25 equals 5 * 5\n"
     ]
    }
   ],
   "source": [
    "for number in range(2, 26):\n",
    "    for divisor in range(2, number):\n",
    "        if number % divisor == 0:\n",
    "            print(\n",
    "                number, 'equals', divisor, \n",
    "                '*', number // divisor)\n",
    "            break\n",
    "    else:\n",
    "        print(number, 'is a prime number')"
   ]
  },
  {
   "cell_type": "code",
   "execution_count": 6,
   "metadata": {},
   "outputs": [
    {
     "name": "stdout",
     "output_type": "stream",
     "text": [
      "Enter a string: abcdefghij\n",
      "Enter a stride: 3\n",
      "ABCdefGHIj\n"
     ]
    }
   ],
   "source": [
    "s = input('Enter a string: ')\n",
    "stride = int(input('Enter a stride: '))\n",
    "isupper = True\n",
    "for begin in range(0, len(s), stride):\n",
    "    substr = s[begin:begin + stride]\n",
    "    if isupper:\n",
    "        print(substr.upper(), end='')\n",
    "    else:\n",
    "        print(substr.lower(), end='')\n",
    "    isupper = not isupper\n",
    "print()"
   ]
  },
  {
   "cell_type": "code",
   "execution_count": 2,
   "metadata": {},
   "outputs": [
    {
     "data": {
      "text/plain": [
       "[['black', 'S', 'short'],\n",
       " ['black', 'S', 'long'],\n",
       " ['black', 'M', 'short'],\n",
       " ['black', 'M', 'long'],\n",
       " ['black', 'L', 'short'],\n",
       " ['black', 'L', 'long'],\n",
       " ['white', 'S', 'short'],\n",
       " ['white', 'S', 'long'],\n",
       " ['white', 'M', 'short'],\n",
       " ['white', 'M', 'long'],\n",
       " ['white', 'L', 'short'],\n",
       " ['white', 'L', 'long']]"
      ]
     },
     "execution_count": 2,
     "metadata": {},
     "output_type": "execute_result"
    }
   ],
   "source": [
    "colors = 'black white'.split()\n",
    "sizes = 'S M L'.split()\n",
    "sleeves = 'short long'.split()\n",
    "[[color, size, sleeve] \n",
    " for color in colors\n",
    " for size in sizes\n",
    " for sleeve in sleeves\n",
    "]"
   ]
  },
  {
   "cell_type": "code",
   "execution_count": 3,
   "metadata": {},
   "outputs": [],
   "source": [
    "def calculate(x, y, op, **kwargs):\n",
    "    if kwargs.get('float'):\n",
    "        x = float(x)\n",
    "    if op == '+':\n",
    "        return x + y\n",
    "    elif op == '-':\n",
    "        return x - y\n",
    "    elif op == '*':\n",
    "        return x * y\n",
    "    elif op == '/':\n",
    "        return x / y\n",
    "    else:\n",
    "        return 'Invalid operator'"
   ]
  },
  {
   "cell_type": "code",
   "execution_count": 4,
   "metadata": {},
   "outputs": [
    {
     "data": {
      "text/plain": [
       "6"
      ]
     },
     "execution_count": 4,
     "metadata": {},
     "output_type": "execute_result"
    }
   ],
   "source": [
    "calculate(2, 4, '+')"
   ]
  },
  {
   "cell_type": "code",
   "execution_count": 5,
   "metadata": {},
   "outputs": [
    {
     "data": {
      "text/plain": [
       "6.0"
      ]
     },
     "execution_count": 5,
     "metadata": {},
     "output_type": "execute_result"
    }
   ],
   "source": [
    "calculate(2, 4, '+', float=True)"
   ]
  }
 ],
 "metadata": {
  "anaconda-cloud": {},
  "kernelspec": {
   "display_name": "Python 3",
   "language": "python",
   "name": "python3"
  },
  "language_info": {
   "codemirror_mode": {
    "name": "ipython",
    "version": 3
   },
   "file_extension": ".py",
   "mimetype": "text/x-python",
   "name": "python",
   "nbconvert_exporter": "python",
   "pygments_lexer": "ipython3",
   "version": "3.6.5"
  }
 },
 "nbformat": 4,
 "nbformat_minor": 1
}
